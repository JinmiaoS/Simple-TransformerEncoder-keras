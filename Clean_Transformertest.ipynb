{
  "nbformat": 4,
  "nbformat_minor": 0,
  "metadata": {
    "colab": {
      "name": "Clean_Transformertest.ipynb",
      "version": "0.3.2",
      "provenance": [],
      "collapsed_sections": [],
      "toc_visible": true,
      "include_colab_link": true
    },
    "kernelspec": {
      "name": "python3",
      "display_name": "Python 3"
    },
    "accelerator": "GPU"
  },
  "cells": [
    {
      "cell_type": "markdown",
      "metadata": {
        "id": "view-in-github",
        "colab_type": "text"
      },
      "source": [
        "<a href=\"https://colab.research.google.com/github/shashwattrivedi/Simple-TransformerEncoder-keras/blob/master/Clean_Transformertest.ipynb\" target=\"_parent\"><img src=\"https://colab.research.google.com/assets/colab-badge.svg\" alt=\"Open In Colab\"/></a>"
      ]
    },
    {
      "metadata": {
        "id": "n22Pm3ObpiPc",
        "colab_type": "code",
        "outputId": "417dd164-2ba9-4bc4-b31c-b2447454271d",
        "colab": {
          "base_uri": "https://localhost:8080/",
          "height": 121
        }
      },
      "cell_type": "code",
      "source": [
        "from google.colab import drive\n",
        "drive.mount('/content/gdrive')"
      ],
      "execution_count": 0,
      "outputs": [
        {
          "output_type": "stream",
          "text": [
            "Go to this URL in a browser: https://accounts.google.com/o/oauth2/auth?client_id=947318989803-6bn6qk8qdgf4n4g3pfee6491hc0brc4i.apps.googleusercontent.com&redirect_uri=urn%3Aietf%3Awg%3Aoauth%3A2.0%3Aoob&scope=email%20https%3A%2F%2Fwww.googleapis.com%2Fauth%2Fdocs.test%20https%3A%2F%2Fwww.googleapis.com%2Fauth%2Fdrive%20https%3A%2F%2Fwww.googleapis.com%2Fauth%2Fdrive.photos.readonly%20https%3A%2F%2Fwww.googleapis.com%2Fauth%2Fpeopleapi.readonly&response_type=code\n",
            "\n",
            "Enter your authorization code:\n",
            "··········\n",
            "Mounted at /content/gdrive\n"
          ],
          "name": "stdout"
        }
      ]
    },
    {
      "metadata": {
        "id": "UVOQQEXT8pEm",
        "colab_type": "code",
        "colab": {}
      },
      "cell_type": "code",
      "source": [
        "!cp /content/gdrive/My\\ Drive/Colab\\ Notebooks/Transformer/* ."
      ],
      "execution_count": 0,
      "outputs": []
    },
    {
      "metadata": {
        "id": "QWm7qIwb9-Yn",
        "colab_type": "code",
        "colab": {}
      },
      "cell_type": "code",
      "source": [
        "!cp /content/gdrive/My\\ Drive/Colab\\ Notebooks/Polarity_data/* ."
      ],
      "execution_count": 0,
      "outputs": []
    },
    {
      "metadata": {
        "id": "M-eWq9fCd9Hf",
        "colab_type": "code",
        "outputId": "c696224d-6c79-4dd8-ef9f-30614b4aa736",
        "colab": {
          "base_uri": "https://localhost:8080/",
          "height": 34
        }
      },
      "cell_type": "code",
      "source": [
        "from keras.preprocessing.sequence import pad_sequences\n",
        "from keras.preprocessing.text import text_to_word_sequence\n",
        "from keras.preprocessing.text import Tokenizer\n",
        "import keras.backend as K\n",
        "import tensorflow as tf\n",
        "from sklearn.preprocessing import OneHotEncoder\n",
        "from sklearn.model_selection import train_test_split\n",
        "import spacy"
      ],
      "execution_count": 0,
      "outputs": [
        {
          "output_type": "stream",
          "text": [
            "Using TensorFlow backend.\n"
          ],
          "name": "stderr"
        }
      ]
    },
    {
      "metadata": {
        "id": "KsK5m4jvd9Hr",
        "colab_type": "code",
        "colab": {}
      },
      "cell_type": "code",
      "source": [
        "from TransformerEncoder import TransformerEncoder\n",
        "from TrainablePositionalEmbeddings import TransformerPositionalEmbedding\n",
        "from utility import *\n",
        "from keras.layers import Input,Dense,Embedding,Add,Lambda,Flatten,Reshape\n",
        "from keras.models import Model\n",
        "import pandas as pd\n",
        "import numpy as np\n",
        "from preprocess import *\n",
        "from visualization import *\n",
        "# from Mask import *"
      ],
      "execution_count": 0,
      "outputs": []
    },
    {
      "metadata": {
        "id": "QVXq9_V_PFZo",
        "colab_type": "code",
        "colab": {}
      },
      "cell_type": "code",
      "source": [
        "# data directory\n",
        "glovePath = '/content/gdrive/My Drive/Colab Notebooks/glove.6B.50d.txt'\n",
        "dataPath  = '/content/gdrive/My Drive/Colab Notebooks/Polarity_data/polarity.pkl'"
      ],
      "execution_count": 0,
      "outputs": []
    },
    {
      "metadata": {
        "id": "eqjnjho_O2aw",
        "colab_type": "text"
      },
      "cell_type": "markdown",
      "source": [
        "#**Hyper-parameters**"
      ]
    },
    {
      "metadata": {
        "id": "b4rcD1BSd9Hw",
        "colab_type": "code",
        "colab": {}
      },
      "cell_type": "code",
      "source": [
        "# Hyper-parameters\n",
        "word_embeddings_dim = 50\n",
        "heads               = 2\n",
        "query_dim           = 32\n",
        "value_dim           = 32\n",
        "positional_ff_dim   = 128\n",
        "\n",
        "\n",
        "#Split ratio\n",
        "test_size = 0.1"
      ],
      "execution_count": 0,
      "outputs": []
    },
    {
      "metadata": {
        "id": "6ZSLuLzId9Ic",
        "colab_type": "text"
      },
      "cell_type": "markdown",
      "source": [
        "# Reading data and Preprocess"
      ]
    },
    {
      "metadata": {
        "id": "9L-MjFdrPXRJ",
        "colab_type": "code",
        "colab": {}
      },
      "cell_type": "code",
      "source": [
        "#Reading\n",
        "data,labels,label_names,val,val_labels = load_data_from_pickle(dataPath)\n",
        "\n",
        "#Preprocess\n",
        "nlp           = spacy.load('en')\n",
        "textprocessor = TextProcessor(nlp)\n",
        "data          = textprocessor.fit_and_transform(data)\n",
        "\n",
        "#Train-test Split\n",
        "train_X, test_X, train_y, test_y = train_test_split(data, labels, test_size = 0.1, shuffle=True)"
      ],
      "execution_count": 0,
      "outputs": []
    },
    {
      "metadata": {
        "id": "JkCA1SoKd9H0",
        "colab_type": "text"
      },
      "cell_type": "markdown",
      "source": [
        "# Preprocess input"
      ]
    },
    {
      "metadata": {
        "id": "ba46hoRBd9IR",
        "colab_type": "code",
        "outputId": "9a29814c-08b6-4035-8f37-7a5999f3572c",
        "colab": {
          "base_uri": "https://localhost:8080/",
          "height": 34
        }
      },
      "cell_type": "code",
      "source": [
        "glove_embeddings  = loadGlove(glovePath)\n",
        "emb_mat           = getEmbMatrix(glove_embeddings,textprocessor.tokenizer.word_index,word_embeddings_dim)"
      ],
      "execution_count": 0,
      "outputs": [
        {
          "output_type": "stream",
          "text": [
            "(17682, 50)\n"
          ],
          "name": "stdout"
        }
      ]
    },
    {
      "metadata": {
        "id": "7JeWJAD7d9Il",
        "colab_type": "text"
      },
      "cell_type": "markdown",
      "source": [
        "# Model"
      ]
    },
    {
      "metadata": {
        "id": "jcCgAJmvd9Ir",
        "colab_type": "code",
        "colab": {}
      },
      "cell_type": "code",
      "source": [
        "def getPolarityModel(max_sequence_len,embedding_matrix,word_embeddings_dim,\n",
        "                     transformer_depth,heads,\n",
        "                     query_dim,value_dim,positional_ff_dim):\n",
        "    \n",
        "    X                             = Input(shape=(max_sequence_len,),dtype='int32')\n",
        "#     mask_layer                    = Reshape((max_sequence_len,1))(MaskLayer()(X))\n",
        "    wordEmb                       = Embedding(len(emb_mat), word_embeddings_dim, weights=[emb_mat], trainable=False,name='Word_Embedding')\n",
        "    positional_embedding_layer    = TransformerPositionalEmbedding(name='Positional_embedding')\n",
        "    \n",
        "    next_step_input               = positional_embedding_layer(wordEmb(X))\n",
        "#     next_step_input               = Lambda(lambda x: x[0]*x[1])([next_step_input, mask_layer])\n",
        "\n",
        "    attention=[None for i in range(transformer_depth)]\n",
        "    for i in range(transformer_depth):\n",
        "            next_step_input,attention[i] =TransformerEncoder(word_embeddings_dim,heads,query_dim,value_dim,positional_ff_dim,dropout_rate= 0.1,name= 'Transformer'+str(i))(next_step_input)\n",
        "            \n",
        "    \n",
        "    sentence_representation       = Lambda(lambda x: x[:,0,:])(next_step_input)\n",
        "    review_class                  = Dense(1,activation='sigmoid',name='Polarity')(sentence_representation)\n",
        "\n",
        "    model                         = Model(inputs=[X],outputs=[review_class,attention[-1]])\n",
        "    \n",
        "    return model\n",
        "    \n",
        "    \n",
        "    "
      ],
      "execution_count": 0,
      "outputs": []
    },
    {
      "metadata": {
        "id": "fCEpAQ5ed9Iu",
        "colab_type": "code",
        "colab": {}
      },
      "cell_type": "code",
      "source": [
        "classifier = getPolarityModel(textprocessor.max_seq_len,\n",
        "                              emb_mat,word_embeddings_dim,\n",
        "                              transformer_depth=1,\n",
        "                              heads = 4,\n",
        "                              query_dim = 128,\n",
        "                              value_dim = 128,\n",
        "                              positional_ff_dim=128)"
      ],
      "execution_count": 0,
      "outputs": []
    },
    {
      "metadata": {
        "id": "44kZ4oOdd9I-",
        "colab_type": "code",
        "outputId": "55e73620-c48c-4198-9080-ddfc7cc36432",
        "colab": {
          "base_uri": "https://localhost:8080/",
          "height": 70
        }
      },
      "cell_type": "code",
      "source": [
        "classifier.compile('nadam',\n",
        "                  loss={'Polarity': 'binary_crossentropy'},\n",
        "                  metrics={'Polarity': 'accuracy'}                \n",
        "                  )\n"
      ],
      "execution_count": 0,
      "outputs": [
        {
          "output_type": "stream",
          "text": [
            "/usr/local/lib/python3.6/dist-packages/ipykernel_launcher.py:3: UserWarning: Output \"lambda_26\" missing from loss dictionary. We assume this was done on purpose, and we will not be expecting any data to be passed to \"lambda_26\" during training.\n",
            "  This is separate from the ipykernel package so we can avoid doing imports until\n"
          ],
          "name": "stderr"
        }
      ]
    },
    {
      "metadata": {
        "scrolled": false,
        "id": "4M_e4Pd0d9JD",
        "colab_type": "code",
        "outputId": "989652d6-7636-452a-c095-951540abd671",
        "colab": {
          "base_uri": "https://localhost:8080/",
          "height": 202
        }
      },
      "cell_type": "code",
      "source": [
        "classifier.fit([train_X],[train_y],batch_size=32,epochs=5,shuffle=True)"
      ],
      "execution_count": 0,
      "outputs": [
        {
          "output_type": "stream",
          "text": [
            "Epoch 1/5\n",
            "9389/9389 [==============================] - 5s 554us/step - loss: 0.5925 - Polarity_loss: 0.5925 - Polarity_acc: 0.6824\n",
            "Epoch 2/5\n",
            "9389/9389 [==============================] - 4s 446us/step - loss: 0.5348 - Polarity_loss: 0.5348 - Polarity_acc: 0.7280\n",
            "Epoch 3/5\n",
            "9389/9389 [==============================] - 4s 443us/step - loss: 0.5159 - Polarity_loss: 0.5159 - Polarity_acc: 0.7428\n",
            "Epoch 4/5\n",
            "9389/9389 [==============================] - 4s 440us/step - loss: 0.5046 - Polarity_loss: 0.5046 - Polarity_acc: 0.7548\n",
            "Epoch 5/5\n",
            "9389/9389 [==============================] - 4s 441us/step - loss: 0.4958 - Polarity_loss: 0.4958 - Polarity_acc: 0.7592\n"
          ],
          "name": "stdout"
        },
        {
          "output_type": "execute_result",
          "data": {
            "text/plain": [
              "<keras.callbacks.History at 0x7f07004ef4e0>"
            ]
          },
          "metadata": {
            "tags": []
          },
          "execution_count": 45
        }
      ]
    },
    {
      "metadata": {
        "id": "UO6fbwUed9JI",
        "colab_type": "code",
        "outputId": "470fec43-6f92-4431-e3c7-4e9e46397875",
        "colab": {
          "base_uri": "https://localhost:8080/",
          "height": 50
        }
      },
      "cell_type": "code",
      "source": [
        "classifier.evaluate([test_X],test_y)"
      ],
      "execution_count": 0,
      "outputs": [
        {
          "output_type": "stream",
          "text": [
            "1044/1044 [==============================] - 0s 360us/step\n"
          ],
          "name": "stdout"
        },
        {
          "output_type": "execute_result",
          "data": {
            "text/plain": [
              "[0.5404613890410384, 0.5404613890410384, 0.7174329497348303]"
            ]
          },
          "metadata": {
            "tags": []
          },
          "execution_count": 46
        }
      ]
    },
    {
      "metadata": {
        "id": "a2jv0wdVeYrQ",
        "colab_type": "code",
        "colab": {}
      },
      "cell_type": "code",
      "source": [
        "def try_this_sentence(sentence,head):\n",
        "  inp = textprocessor.transform([sentence])\n",
        "  y_pred, attention = classifier.predict(inp)\n",
        "  print(\"The prediction value is \" + str (y_pred[0][0]) + \" \" +str(label_names[y_pred[0][0]>=0.5]))\n",
        "  \n",
        "  return display_attention(sentence.split(),attention[0,head-1,0,:])\n",
        "  "
      ],
      "execution_count": 0,
      "outputs": []
    },
    {
      "metadata": {
        "id": "5mUOtqJDoeVa",
        "colab_type": "code",
        "outputId": "2ae618c7-3186-4bfc-fac8-80b8e0f0bd22",
        "colab": {
          "base_uri": "https://localhost:8080/",
          "height": 87
        }
      },
      "cell_type": "code",
      "source": [
        "try_this_sentence('[CLS] the good , the nasty and the grotesque is a  awesome movie',1)"
      ],
      "execution_count": 0,
      "outputs": [
        {
          "output_type": "stream",
          "text": [
            "The prediction value is 0.81496316 positive\n"
          ],
          "name": "stdout"
        },
        {
          "output_type": "stream",
          "text": [
            "/usr/local/lib/python3.6/dist-packages/ipykernel_launcher.py:4: DeprecationWarning: In future, it will be an error for 'np.bool_' scalars to be interpreted as an index\n",
            "  after removing the cwd from sys.path.\n"
          ],
          "name": "stderr"
        }
      ]
    },
    {
      "metadata": {
        "id": "y-g-AIq6m7Va",
        "colab_type": "code",
        "colab": {}
      },
      "cell_type": "code",
      "source": [
        ""
      ],
      "execution_count": 0,
      "outputs": []
    }
  ]
}